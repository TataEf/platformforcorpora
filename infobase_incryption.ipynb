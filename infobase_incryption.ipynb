{
 "cells": [
  {
   "cell_type": "code",
   "execution_count": 4,
   "metadata": {
    "collapsed": true
   },
   "outputs": [],
   "source": [
    "from Crypto.Cipher import PKCS1_OAEP\n",
    "from Crypto.PublicKey import RSA\n",
    "\n",
    "# key generation Bob\n",
    "privatekey = RSA.generate(2048)\n",
    "f = open('decryptionkey.txt','wb')\n",
    "f.write(bytes(privatekey.exportKey('PEM'))); f.close()\n",
    "publickey = privatekey.publickey()\n",
    "f = open('incryptionkey.txt','wb')\n",
    "f.write(bytes(publickey.exportKey('PEM'))); f.close()"
   ]
  },
  {
   "cell_type": "code",
   "execution_count": 3,
   "metadata": {
    "collapsed": true
   },
   "outputs": [],
   "source": [
    "from Crypto.Cipher import PKCS1_OAEP\n",
    "from Crypto.PublicKey import RSA\n",
    "from Crypto.Signature import PKCS1_v1_5\n",
    "from Crypto.Hash import SHA\n",
    "from Crypto.PublicKey import RSA\n",
    "from Crypto.Cipher import PKCS1_OAEP\n",
    "from Crypto.Cipher import AES\n",
    "from Crypto import Random\n",
    "from Crypto.Cipher import PKCS1_OAEP\n",
    "from Crypto.PublicKey import RSA\n",
    "\n",
    "\n",
    "# creation 256 bit session key \n",
    "sessionkey = Random.new().read(32) # 256 bit\n",
    "\n",
    "# encryption AES of the message\n",
    "f = open('infobase.json','rb')\n",
    "plaintext = f.read(); f.close()\n",
    "iv = Random.new().read(16) # 128 bit\n",
    "obj = AES.new(sessionkey, AES.MODE_CFB, iv)\n",
    "ciphertext = iv + obj.encrypt(plaintext)\n",
    "f = open('infobase.txt','wb')\n",
    "f.write(bytes(ciphertext)); f.close()\n",
    "\n",
    "# encryption RSA of the session key\n",
    "publickey = RSA.importKey(open('incryptionkey.txt','rb').read())\n",
    "cipherrsa = PKCS1_OAEP.new(publickey)\n",
    "sessionkey = cipherrsa.encrypt(sessionkey)\n",
    "f = open('sessionkey.txt','wb')\n",
    "f.write(bytes(sessionkey)); f.close()"
   ]
  },
  {
   "cell_type": "code",
   "execution_count": null,
   "metadata": {
    "collapsed": true
   },
   "outputs": [],
   "source": []
  }
 ],
 "metadata": {
  "kernelspec": {
   "display_name": "Python 3",
   "language": "python",
   "name": "python3"
  },
  "language_info": {
   "codemirror_mode": {
    "name": "ipython",
    "version": 3
   },
   "file_extension": ".py",
   "mimetype": "text/x-python",
   "name": "python",
   "nbconvert_exporter": "python",
   "pygments_lexer": "ipython3",
   "version": "3.5.1"
  }
 },
 "nbformat": 4,
 "nbformat_minor": 0
}
