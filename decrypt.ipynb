{
 "cells": [
  {
   "cell_type": "code",
   "execution_count": 1,
   "metadata": {
    "collapsed": false
   },
   "outputs": [],
   "source": [
    "from Crypto.Cipher import AES\n",
    "from Crypto import Random\n",
    "from Crypto.Cipher import PKCS1_OAEP\n",
    "from Crypto.PublicKey import RSA\n",
    "from Crypto.Signature import PKCS1_v1_5\n",
    "from Crypto.Hash import SHA\n",
    "from Crypto.PublicKey import RSA\n",
    "from Crypto.Cipher import PKCS1_OAEP\n",
    "\n",
    "\n",
    "# decryption session key\n",
    "privatekey = RSA.importKey(open('yourdecryptionkey.txt','rb').read())\n",
    "cipherrsa = PKCS1_OAEP.new(privatekey)\n",
    "f = open('researcherkey.txt','rb')\n",
    "sessionkey = f.read(); f.close()\n",
    "sessionkey = cipherrsa.decrypt(sessionkey)\n",
    "# decryption message\n",
    "f = open('deletedwords.txt','rb')\n",
    "ciphertext = f.read(); f.close()\n",
    "iv = ciphertext[:16]\n",
    "obj = AES.new(sessionkey, AES.MODE_CFB, iv)\n",
    "plaintext = obj.decrypt(ciphertext)\n",
    "plaintext = plaintext[16:]\n",
    "f = open('deletedwords.txt','wb')\n",
    "f.write(bytes(plaintext)); f.close()"
   ]
  },
  {
   "cell_type": "code",
   "execution_count": 5,
   "metadata": {
    "collapsed": false
   },
   "outputs": [],
   "source": []
  },
  {
   "cell_type": "code",
   "execution_count": null,
   "metadata": {
    "collapsed": true
   },
   "outputs": [],
   "source": []
  }
 ],
 "metadata": {
  "kernelspec": {
   "display_name": "Python 3",
   "language": "python",
   "name": "python3"
  },
  "language_info": {
   "codemirror_mode": {
    "name": "ipython",
    "version": 3
   },
   "file_extension": ".py",
   "mimetype": "text/x-python",
   "name": "python",
   "nbconvert_exporter": "python",
   "pygments_lexer": "ipython3",
   "version": "3.5.1"
  }
 },
 "nbformat": 4,
 "nbformat_minor": 0
}
